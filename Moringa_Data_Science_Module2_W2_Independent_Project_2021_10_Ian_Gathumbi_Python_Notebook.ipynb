{
  "nbformat": 4,
  "nbformat_minor": 0,
  "metadata": {
    "colab": {
      "name": "Moringa_Data_Science_Module2_W2_Independent_Project_2021_10_Ian_Gathumbi_Python_Notebook",
      "provenance": [],
      "collapsed_sections": [],
      "authorship_tag": "ABX9TyPs2cl20egWohXsltZFfxTR",
      "include_colab_link": true
    },
    "kernelspec": {
      "name": "python3",
      "display_name": "Python 3"
    },
    "language_info": {
      "name": "python"
    }
  },
  "cells": [
    {
      "cell_type": "markdown",
      "metadata": {
        "id": "view-in-github",
        "colab_type": "text"
      },
      "source": [
        "<a href=\"https://colab.research.google.com/github/igt14/HousePricesModelling/blob/main/Moringa_Data_Science_Module2_W2_Independent_Project_2021_10_Ian_Gathumbi_Python_Notebook.ipynb\" target=\"_parent\"><img src=\"https://colab.research.google.com/assets/colab-badge.svg\" alt=\"Open In Colab\"/></a>"
      ]
    },
    {
      "cell_type": "markdown",
      "metadata": {
        "id": "xL3okbdD0E6G"
      },
      "source": [
        "# 1. Defining the question\n",
        "\n",
        "What are some of the factors affecting housing prices?"
      ]
    },
    {
      "cell_type": "code",
      "metadata": {
        "id": "lzRJzymn8y9v"
      },
      "source": [
        "# Importing the libraries we will usee\n",
        "import numpy as np\n",
        "import pandas as pd\n",
        "import matplotlib.pyplot as plt\n",
        "import seaborn as sns"
      ],
      "execution_count": 1,
      "outputs": []
    },
    {
      "cell_type": "code",
      "metadata": {
        "id": "P-DIuPHq8gsO"
      },
      "source": [
        "# These are the user defined functions that we will use\n",
        "\n",
        "# This tells us how many row and columns our dataset has\n",
        "#\n",
        "def rows_and_columns(df):\n",
        "  return print(f'The dataset has {df.shape[0]} rows and {df.shape[1]} columns')\n",
        "\n",
        "# A table showing the percentage of missing values per column\n",
        "#\n",
        "def percent_missing_values(df):\n",
        "  # Creating a dataframe showing percentage of missing values\n",
        "  percentage = ((df.isnull().sum() / len(df)) * 100).sort_values(ascending=False).to_frame()\n",
        "\n",
        "  # Renaming the column\n",
        "  percentage.columns = ['Percentage Missing']\n",
        "\n",
        "  # Returning a dataframe with the percentage of missing values\n",
        "  return percentage\n",
        "\n",
        "# Checking and dropping duplicate values\n",
        "#\n",
        "def duplicated_records(df):\n",
        "  # Checking if there are duplicated values\n",
        "  if df.duplicated().any() == True:\n",
        "\n",
        "  # Dropping duplicates if found \n",
        "    df.drop_duplicates(inplace=True)\n",
        "    return('Duplicates dropped')\n",
        "  \n",
        "  # Print no duplicates if there are none\n",
        "  else:\n",
        "    return print('No duplicated records') \n",
        "\n",
        "# Calculating variance inflation factor to detect multicollinearity\n",
        "def calc_vif(X):\n",
        "  from statsmodels.stats.outliers_influence import variance_inflation_factor\n",
        "  # Calculating VIF\n",
        "  vif = pd.DataFrame()\n",
        "  vif[\"variables\"] = X.columns\n",
        "  vif[\"VIF\"] = [variance_inflation_factor(X.values, i) for i in range(X.shape[1])]\n",
        "  \n",
        "  return vif "
      ],
      "execution_count": 2,
      "outputs": []
    },
    {
      "cell_type": "markdown",
      "metadata": {
        "id": "r-CZ7rrY0L9P"
      },
      "source": [
        "# 2. Loading the data"
      ]
    },
    {
      "cell_type": "code",
      "metadata": {
        "id": "vFmmwqC61VVw"
      },
      "source": [
        "# Loading our dataset\n",
        "house = pd.read_csv('/content/Independent Project Week 7 - house_data.csv')"
      ],
      "execution_count": 3,
      "outputs": []
    },
    {
      "cell_type": "code",
      "metadata": {
        "colab": {
          "base_uri": "https://localhost:8080/"
        },
        "id": "uxpZ5qk00YSM",
        "outputId": "6f236c2f-dc3a-48d3-9488-bcf780578af9"
      },
      "source": [
        "# Shape of the datasest\n",
        "rows_and_columns(house)"
      ],
      "execution_count": 4,
      "outputs": [
        {
          "output_type": "stream",
          "name": "stdout",
          "text": [
            "The dataset has 21613 rows and 20 columns\n"
          ]
        }
      ]
    },
    {
      "cell_type": "code",
      "metadata": {
        "colab": {
          "base_uri": "https://localhost:8080/"
        },
        "id": "I_MIZlWi94we",
        "outputId": "ba5d4c15-02aa-4c2a-ed12-05707ea0db13"
      },
      "source": [
        "# Dataset info\n",
        "house.info()"
      ],
      "execution_count": 5,
      "outputs": [
        {
          "output_type": "stream",
          "name": "stdout",
          "text": [
            "<class 'pandas.core.frame.DataFrame'>\n",
            "RangeIndex: 21613 entries, 0 to 21612\n",
            "Data columns (total 20 columns):\n",
            " #   Column         Non-Null Count  Dtype  \n",
            "---  ------         --------------  -----  \n",
            " 0   id             21613 non-null  int64  \n",
            " 1   price          21613 non-null  float64\n",
            " 2   bedrooms       21613 non-null  int64  \n",
            " 3   bathrooms      21613 non-null  float64\n",
            " 4   sqft_living    21613 non-null  int64  \n",
            " 5   sqft_lot       21613 non-null  int64  \n",
            " 6   floors         21613 non-null  float64\n",
            " 7   waterfront     21613 non-null  int64  \n",
            " 8   view           21613 non-null  int64  \n",
            " 9   condition      21613 non-null  int64  \n",
            " 10  grade          21613 non-null  int64  \n",
            " 11  sqft_above     21613 non-null  int64  \n",
            " 12  sqft_basement  21613 non-null  int64  \n",
            " 13  yr_built       21613 non-null  int64  \n",
            " 14  yr_renovated   21613 non-null  int64  \n",
            " 15  zipcode        21613 non-null  int64  \n",
            " 16  lat            21613 non-null  float64\n",
            " 17  long           21613 non-null  float64\n",
            " 18  sqft_living15  21613 non-null  int64  \n",
            " 19  sqft_lot15     21613 non-null  int64  \n",
            "dtypes: float64(5), int64(15)\n",
            "memory usage: 3.3 MB\n"
          ]
        }
      ]
    },
    {
      "cell_type": "code",
      "metadata": {
        "colab": {
          "base_uri": "https://localhost:8080/",
          "height": 162
        },
        "id": "a8lFNii33RhE",
        "outputId": "72e2ad02-ee8c-432f-fb85-8b4580456a1e"
      },
      "source": [
        "# Previewing the top of our dataset\n",
        "house.head(3)"
      ],
      "execution_count": 6,
      "outputs": [
        {
          "output_type": "execute_result",
          "data": {
            "text/html": [
              "<div>\n",
              "<style scoped>\n",
              "    .dataframe tbody tr th:only-of-type {\n",
              "        vertical-align: middle;\n",
              "    }\n",
              "\n",
              "    .dataframe tbody tr th {\n",
              "        vertical-align: top;\n",
              "    }\n",
              "\n",
              "    .dataframe thead th {\n",
              "        text-align: right;\n",
              "    }\n",
              "</style>\n",
              "<table border=\"1\" class=\"dataframe\">\n",
              "  <thead>\n",
              "    <tr style=\"text-align: right;\">\n",
              "      <th></th>\n",
              "      <th>id</th>\n",
              "      <th>price</th>\n",
              "      <th>bedrooms</th>\n",
              "      <th>bathrooms</th>\n",
              "      <th>sqft_living</th>\n",
              "      <th>sqft_lot</th>\n",
              "      <th>floors</th>\n",
              "      <th>waterfront</th>\n",
              "      <th>view</th>\n",
              "      <th>condition</th>\n",
              "      <th>grade</th>\n",
              "      <th>sqft_above</th>\n",
              "      <th>sqft_basement</th>\n",
              "      <th>yr_built</th>\n",
              "      <th>yr_renovated</th>\n",
              "      <th>zipcode</th>\n",
              "      <th>lat</th>\n",
              "      <th>long</th>\n",
              "      <th>sqft_living15</th>\n",
              "      <th>sqft_lot15</th>\n",
              "    </tr>\n",
              "  </thead>\n",
              "  <tbody>\n",
              "    <tr>\n",
              "      <th>0</th>\n",
              "      <td>7129300520</td>\n",
              "      <td>221900.0</td>\n",
              "      <td>3</td>\n",
              "      <td>1.00</td>\n",
              "      <td>1180</td>\n",
              "      <td>5650</td>\n",
              "      <td>1.0</td>\n",
              "      <td>0</td>\n",
              "      <td>0</td>\n",
              "      <td>3</td>\n",
              "      <td>7</td>\n",
              "      <td>1180</td>\n",
              "      <td>0</td>\n",
              "      <td>1955</td>\n",
              "      <td>0</td>\n",
              "      <td>98178</td>\n",
              "      <td>47.5112</td>\n",
              "      <td>-122.257</td>\n",
              "      <td>1340</td>\n",
              "      <td>5650</td>\n",
              "    </tr>\n",
              "    <tr>\n",
              "      <th>1</th>\n",
              "      <td>6414100192</td>\n",
              "      <td>538000.0</td>\n",
              "      <td>3</td>\n",
              "      <td>2.25</td>\n",
              "      <td>2570</td>\n",
              "      <td>7242</td>\n",
              "      <td>2.0</td>\n",
              "      <td>0</td>\n",
              "      <td>0</td>\n",
              "      <td>3</td>\n",
              "      <td>7</td>\n",
              "      <td>2170</td>\n",
              "      <td>400</td>\n",
              "      <td>1951</td>\n",
              "      <td>1991</td>\n",
              "      <td>98125</td>\n",
              "      <td>47.7210</td>\n",
              "      <td>-122.319</td>\n",
              "      <td>1690</td>\n",
              "      <td>7639</td>\n",
              "    </tr>\n",
              "    <tr>\n",
              "      <th>2</th>\n",
              "      <td>5631500400</td>\n",
              "      <td>180000.0</td>\n",
              "      <td>2</td>\n",
              "      <td>1.00</td>\n",
              "      <td>770</td>\n",
              "      <td>10000</td>\n",
              "      <td>1.0</td>\n",
              "      <td>0</td>\n",
              "      <td>0</td>\n",
              "      <td>3</td>\n",
              "      <td>6</td>\n",
              "      <td>770</td>\n",
              "      <td>0</td>\n",
              "      <td>1933</td>\n",
              "      <td>0</td>\n",
              "      <td>98028</td>\n",
              "      <td>47.7379</td>\n",
              "      <td>-122.233</td>\n",
              "      <td>2720</td>\n",
              "      <td>8062</td>\n",
              "    </tr>\n",
              "  </tbody>\n",
              "</table>\n",
              "</div>"
            ],
            "text/plain": [
              "           id     price  bedrooms  ...     long  sqft_living15  sqft_lot15\n",
              "0  7129300520  221900.0         3  ... -122.257           1340        5650\n",
              "1  6414100192  538000.0         3  ... -122.319           1690        7639\n",
              "2  5631500400  180000.0         2  ... -122.233           2720        8062\n",
              "\n",
              "[3 rows x 20 columns]"
            ]
          },
          "metadata": {},
          "execution_count": 6
        }
      ]
    },
    {
      "cell_type": "code",
      "metadata": {
        "colab": {
          "base_uri": "https://localhost:8080/",
          "height": 162
        },
        "id": "JIWmvb3s9tTg",
        "outputId": "b1e09bfc-d1b9-4782-fd69-be76ed6f61d7"
      },
      "source": [
        "# Previewing the bottom of our dataset\n",
        "house.tail(3)"
      ],
      "execution_count": 7,
      "outputs": [
        {
          "output_type": "execute_result",
          "data": {
            "text/html": [
              "<div>\n",
              "<style scoped>\n",
              "    .dataframe tbody tr th:only-of-type {\n",
              "        vertical-align: middle;\n",
              "    }\n",
              "\n",
              "    .dataframe tbody tr th {\n",
              "        vertical-align: top;\n",
              "    }\n",
              "\n",
              "    .dataframe thead th {\n",
              "        text-align: right;\n",
              "    }\n",
              "</style>\n",
              "<table border=\"1\" class=\"dataframe\">\n",
              "  <thead>\n",
              "    <tr style=\"text-align: right;\">\n",
              "      <th></th>\n",
              "      <th>id</th>\n",
              "      <th>price</th>\n",
              "      <th>bedrooms</th>\n",
              "      <th>bathrooms</th>\n",
              "      <th>sqft_living</th>\n",
              "      <th>sqft_lot</th>\n",
              "      <th>floors</th>\n",
              "      <th>waterfront</th>\n",
              "      <th>view</th>\n",
              "      <th>condition</th>\n",
              "      <th>grade</th>\n",
              "      <th>sqft_above</th>\n",
              "      <th>sqft_basement</th>\n",
              "      <th>yr_built</th>\n",
              "      <th>yr_renovated</th>\n",
              "      <th>zipcode</th>\n",
              "      <th>lat</th>\n",
              "      <th>long</th>\n",
              "      <th>sqft_living15</th>\n",
              "      <th>sqft_lot15</th>\n",
              "    </tr>\n",
              "  </thead>\n",
              "  <tbody>\n",
              "    <tr>\n",
              "      <th>21610</th>\n",
              "      <td>1523300141</td>\n",
              "      <td>402101.0</td>\n",
              "      <td>2</td>\n",
              "      <td>0.75</td>\n",
              "      <td>1020</td>\n",
              "      <td>1350</td>\n",
              "      <td>2.0</td>\n",
              "      <td>0</td>\n",
              "      <td>0</td>\n",
              "      <td>3</td>\n",
              "      <td>7</td>\n",
              "      <td>1020</td>\n",
              "      <td>0</td>\n",
              "      <td>2009</td>\n",
              "      <td>0</td>\n",
              "      <td>98144</td>\n",
              "      <td>47.5944</td>\n",
              "      <td>-122.299</td>\n",
              "      <td>1020</td>\n",
              "      <td>2007</td>\n",
              "    </tr>\n",
              "    <tr>\n",
              "      <th>21611</th>\n",
              "      <td>291310100</td>\n",
              "      <td>400000.0</td>\n",
              "      <td>3</td>\n",
              "      <td>2.50</td>\n",
              "      <td>1600</td>\n",
              "      <td>2388</td>\n",
              "      <td>2.0</td>\n",
              "      <td>0</td>\n",
              "      <td>0</td>\n",
              "      <td>3</td>\n",
              "      <td>8</td>\n",
              "      <td>1600</td>\n",
              "      <td>0</td>\n",
              "      <td>2004</td>\n",
              "      <td>0</td>\n",
              "      <td>98027</td>\n",
              "      <td>47.5345</td>\n",
              "      <td>-122.069</td>\n",
              "      <td>1410</td>\n",
              "      <td>1287</td>\n",
              "    </tr>\n",
              "    <tr>\n",
              "      <th>21612</th>\n",
              "      <td>1523300157</td>\n",
              "      <td>325000.0</td>\n",
              "      <td>2</td>\n",
              "      <td>0.75</td>\n",
              "      <td>1020</td>\n",
              "      <td>1076</td>\n",
              "      <td>2.0</td>\n",
              "      <td>0</td>\n",
              "      <td>0</td>\n",
              "      <td>3</td>\n",
              "      <td>7</td>\n",
              "      <td>1020</td>\n",
              "      <td>0</td>\n",
              "      <td>2008</td>\n",
              "      <td>0</td>\n",
              "      <td>98144</td>\n",
              "      <td>47.5941</td>\n",
              "      <td>-122.299</td>\n",
              "      <td>1020</td>\n",
              "      <td>1357</td>\n",
              "    </tr>\n",
              "  </tbody>\n",
              "</table>\n",
              "</div>"
            ],
            "text/plain": [
              "               id     price  bedrooms  ...     long  sqft_living15  sqft_lot15\n",
              "21610  1523300141  402101.0         2  ... -122.299           1020        2007\n",
              "21611   291310100  400000.0         3  ... -122.069           1410        1287\n",
              "21612  1523300157  325000.0         2  ... -122.299           1020        1357\n",
              "\n",
              "[3 rows x 20 columns]"
            ]
          },
          "metadata": {},
          "execution_count": 7
        }
      ]
    },
    {
      "cell_type": "markdown",
      "metadata": {
        "id": "nIV8_r1S4VNh"
      },
      "source": [
        "# 3. Data preparation"
      ]
    },
    {
      "cell_type": "code",
      "metadata": {
        "id": "FOgMz4NN4dKW"
      },
      "source": [
        "# Dropping irrelevant columns\n",
        "house.drop(labels=['id', 'lat', 'long'], axis=1, inplace=True)"
      ],
      "execution_count": 8,
      "outputs": []
    },
    {
      "cell_type": "code",
      "metadata": {
        "colab": {
          "base_uri": "https://localhost:8080/",
          "height": 576
        },
        "id": "4Xn2OiFf-2Kz",
        "outputId": "686f35ed-ac87-4559-9301-e0a76b4b1f32"
      },
      "source": [
        "# Checking for missing values\n",
        "percent_missing_values(house)"
      ],
      "execution_count": 9,
      "outputs": [
        {
          "output_type": "execute_result",
          "data": {
            "text/html": [
              "<div>\n",
              "<style scoped>\n",
              "    .dataframe tbody tr th:only-of-type {\n",
              "        vertical-align: middle;\n",
              "    }\n",
              "\n",
              "    .dataframe tbody tr th {\n",
              "        vertical-align: top;\n",
              "    }\n",
              "\n",
              "    .dataframe thead th {\n",
              "        text-align: right;\n",
              "    }\n",
              "</style>\n",
              "<table border=\"1\" class=\"dataframe\">\n",
              "  <thead>\n",
              "    <tr style=\"text-align: right;\">\n",
              "      <th></th>\n",
              "      <th>Percentage Missing</th>\n",
              "    </tr>\n",
              "  </thead>\n",
              "  <tbody>\n",
              "    <tr>\n",
              "      <th>sqft_lot15</th>\n",
              "      <td>0.0</td>\n",
              "    </tr>\n",
              "    <tr>\n",
              "      <th>view</th>\n",
              "      <td>0.0</td>\n",
              "    </tr>\n",
              "    <tr>\n",
              "      <th>bedrooms</th>\n",
              "      <td>0.0</td>\n",
              "    </tr>\n",
              "    <tr>\n",
              "      <th>bathrooms</th>\n",
              "      <td>0.0</td>\n",
              "    </tr>\n",
              "    <tr>\n",
              "      <th>sqft_living</th>\n",
              "      <td>0.0</td>\n",
              "    </tr>\n",
              "    <tr>\n",
              "      <th>sqft_lot</th>\n",
              "      <td>0.0</td>\n",
              "    </tr>\n",
              "    <tr>\n",
              "      <th>floors</th>\n",
              "      <td>0.0</td>\n",
              "    </tr>\n",
              "    <tr>\n",
              "      <th>waterfront</th>\n",
              "      <td>0.0</td>\n",
              "    </tr>\n",
              "    <tr>\n",
              "      <th>condition</th>\n",
              "      <td>0.0</td>\n",
              "    </tr>\n",
              "    <tr>\n",
              "      <th>sqft_living15</th>\n",
              "      <td>0.0</td>\n",
              "    </tr>\n",
              "    <tr>\n",
              "      <th>grade</th>\n",
              "      <td>0.0</td>\n",
              "    </tr>\n",
              "    <tr>\n",
              "      <th>sqft_above</th>\n",
              "      <td>0.0</td>\n",
              "    </tr>\n",
              "    <tr>\n",
              "      <th>sqft_basement</th>\n",
              "      <td>0.0</td>\n",
              "    </tr>\n",
              "    <tr>\n",
              "      <th>yr_built</th>\n",
              "      <td>0.0</td>\n",
              "    </tr>\n",
              "    <tr>\n",
              "      <th>yr_renovated</th>\n",
              "      <td>0.0</td>\n",
              "    </tr>\n",
              "    <tr>\n",
              "      <th>zipcode</th>\n",
              "      <td>0.0</td>\n",
              "    </tr>\n",
              "    <tr>\n",
              "      <th>price</th>\n",
              "      <td>0.0</td>\n",
              "    </tr>\n",
              "  </tbody>\n",
              "</table>\n",
              "</div>"
            ],
            "text/plain": [
              "               Percentage Missing\n",
              "sqft_lot15                    0.0\n",
              "view                          0.0\n",
              "bedrooms                      0.0\n",
              "bathrooms                     0.0\n",
              "sqft_living                   0.0\n",
              "sqft_lot                      0.0\n",
              "floors                        0.0\n",
              "waterfront                    0.0\n",
              "condition                     0.0\n",
              "sqft_living15                 0.0\n",
              "grade                         0.0\n",
              "sqft_above                    0.0\n",
              "sqft_basement                 0.0\n",
              "yr_built                      0.0\n",
              "yr_renovated                  0.0\n",
              "zipcode                       0.0\n",
              "price                         0.0"
            ]
          },
          "metadata": {},
          "execution_count": 9
        }
      ]
    },
    {
      "cell_type": "code",
      "metadata": {
        "colab": {
          "base_uri": "https://localhost:8080/",
          "height": 35
        },
        "id": "ixVUtc3b_BFr",
        "outputId": "f99c03bf-2bd5-40a1-e4d3-3a02fda15a16"
      },
      "source": [
        "# Checking for duplicates\n",
        "duplicated_records(house)"
      ],
      "execution_count": 10,
      "outputs": [
        {
          "output_type": "execute_result",
          "data": {
            "application/vnd.google.colaboratory.intrinsic+json": {
              "type": "string"
            },
            "text/plain": [
              "'Duplicates dropped'"
            ]
          },
          "metadata": {},
          "execution_count": 10
        }
      ]
    },
    {
      "cell_type": "markdown",
      "metadata": {
        "id": "569Gg5HnWaRS"
      },
      "source": [
        "Using the year built column we can find out how old a house is as this may be a factor in its price. We are assuming these prices are from 2021"
      ]
    },
    {
      "cell_type": "code",
      "metadata": {
        "id": "iUaorbYa5zZK"
      },
      "source": [
        "# Creating a new column 'age' showing how old the house is\n",
        "# Assuming these prices are from 2021, the age of the house is 2021 minus the year it was built\n",
        "house['age'] = 2021 - house['yr_built']"
      ],
      "execution_count": 11,
      "outputs": []
    },
    {
      "cell_type": "markdown",
      "metadata": {
        "id": "0Wi1VuQMRu9Z"
      },
      "source": [
        "We want to use zip code in our model because location could be a factor in house prices. Let's see how many unique zipcodes we have in our dataset"
      ]
    },
    {
      "cell_type": "code",
      "metadata": {
        "colab": {
          "base_uri": "https://localhost:8080/"
        },
        "id": "muodniMeQ65Y",
        "outputId": "960e7573-7369-4420-8e23-2c42eb54aa54"
      },
      "source": [
        "house['zipcode'].nunique()"
      ],
      "execution_count": 12,
      "outputs": [
        {
          "output_type": "execute_result",
          "data": {
            "text/plain": [
              "70"
            ]
          },
          "metadata": {},
          "execution_count": 12
        }
      ]
    },
    {
      "cell_type": "markdown",
      "metadata": {
        "id": "JMd8IfBaSA41"
      },
      "source": [
        "There are 70 unique zipcodes and since they are categorical we'd have to create 69 new dummy variables which are far too many.\n",
        "\n",
        "The first 3 digits of a zipcode represent a city/town as the image below shows\n",
        "![zip-code-1.png](data:image/png;base64,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)\n",
        "\n",
        "This means that houses with the same first three digits of a zipcode are from a similar area. So we will create a new column with the first three digits of our zipcodes and that will reduce the amount of dummy variables we will have to create."
      ]
    },
    {
      "cell_type": "code",
      "metadata": {
        "colab": {
          "base_uri": "https://localhost:8080/"
        },
        "id": "GZT_-9fTOva2",
        "outputId": "2fbd5802-d2a3-496c-b731-8c90c5f1ff06"
      },
      "source": [
        "# First we have to convert the zipcode column type to string to be able to splice the digits \n",
        "house['zipcode'] = house['zipcode'].astype(str)\n",
        "# Create a new column with the first three digits of the zip code\n",
        "house['zip'] = house['zipcode'].str[0:3]\n",
        "# Seeing how many unique zip we get\n",
        "house['zip'].unique()"
      ],
      "execution_count": 13,
      "outputs": [
        {
          "output_type": "execute_result",
          "data": {
            "text/plain": [
              "array(['981', '980'], dtype=object)"
            ]
          },
          "metadata": {},
          "execution_count": 13
        }
      ]
    },
    {
      "cell_type": "code",
      "metadata": {
        "colab": {
          "base_uri": "https://localhost:8080/",
          "height": 224
        },
        "id": "95gkYOT0VYY4",
        "outputId": "b95a48bb-ab8e-488b-872a-46ff80c2dd6d"
      },
      "source": [
        "# Our dataset has houses from two areas 981 and 980\n",
        "# We will now create a dummy variable for the zip column\n",
        "house = pd.get_dummies(house, columns=['zip'], drop_first=True)\n",
        "house.head()"
      ],
      "execution_count": 14,
      "outputs": [
        {
          "output_type": "execute_result",
          "data": {
            "text/html": [
              "<div>\n",
              "<style scoped>\n",
              "    .dataframe tbody tr th:only-of-type {\n",
              "        vertical-align: middle;\n",
              "    }\n",
              "\n",
              "    .dataframe tbody tr th {\n",
              "        vertical-align: top;\n",
              "    }\n",
              "\n",
              "    .dataframe thead th {\n",
              "        text-align: right;\n",
              "    }\n",
              "</style>\n",
              "<table border=\"1\" class=\"dataframe\">\n",
              "  <thead>\n",
              "    <tr style=\"text-align: right;\">\n",
              "      <th></th>\n",
              "      <th>price</th>\n",
              "      <th>bedrooms</th>\n",
              "      <th>bathrooms</th>\n",
              "      <th>sqft_living</th>\n",
              "      <th>sqft_lot</th>\n",
              "      <th>floors</th>\n",
              "      <th>waterfront</th>\n",
              "      <th>view</th>\n",
              "      <th>condition</th>\n",
              "      <th>grade</th>\n",
              "      <th>sqft_above</th>\n",
              "      <th>sqft_basement</th>\n",
              "      <th>yr_built</th>\n",
              "      <th>yr_renovated</th>\n",
              "      <th>zipcode</th>\n",
              "      <th>sqft_living15</th>\n",
              "      <th>sqft_lot15</th>\n",
              "      <th>age</th>\n",
              "      <th>zip_981</th>\n",
              "    </tr>\n",
              "  </thead>\n",
              "  <tbody>\n",
              "    <tr>\n",
              "      <th>0</th>\n",
              "      <td>221900.0</td>\n",
              "      <td>3</td>\n",
              "      <td>1.00</td>\n",
              "      <td>1180</td>\n",
              "      <td>5650</td>\n",
              "      <td>1.0</td>\n",
              "      <td>0</td>\n",
              "      <td>0</td>\n",
              "      <td>3</td>\n",
              "      <td>7</td>\n",
              "      <td>1180</td>\n",
              "      <td>0</td>\n",
              "      <td>1955</td>\n",
              "      <td>0</td>\n",
              "      <td>98178</td>\n",
              "      <td>1340</td>\n",
              "      <td>5650</td>\n",
              "      <td>66</td>\n",
              "      <td>1</td>\n",
              "    </tr>\n",
              "    <tr>\n",
              "      <th>1</th>\n",
              "      <td>538000.0</td>\n",
              "      <td>3</td>\n",
              "      <td>2.25</td>\n",
              "      <td>2570</td>\n",
              "      <td>7242</td>\n",
              "      <td>2.0</td>\n",
              "      <td>0</td>\n",
              "      <td>0</td>\n",
              "      <td>3</td>\n",
              "      <td>7</td>\n",
              "      <td>2170</td>\n",
              "      <td>400</td>\n",
              "      <td>1951</td>\n",
              "      <td>1991</td>\n",
              "      <td>98125</td>\n",
              "      <td>1690</td>\n",
              "      <td>7639</td>\n",
              "      <td>70</td>\n",
              "      <td>1</td>\n",
              "    </tr>\n",
              "    <tr>\n",
              "      <th>2</th>\n",
              "      <td>180000.0</td>\n",
              "      <td>2</td>\n",
              "      <td>1.00</td>\n",
              "      <td>770</td>\n",
              "      <td>10000</td>\n",
              "      <td>1.0</td>\n",
              "      <td>0</td>\n",
              "      <td>0</td>\n",
              "      <td>3</td>\n",
              "      <td>6</td>\n",
              "      <td>770</td>\n",
              "      <td>0</td>\n",
              "      <td>1933</td>\n",
              "      <td>0</td>\n",
              "      <td>98028</td>\n",
              "      <td>2720</td>\n",
              "      <td>8062</td>\n",
              "      <td>88</td>\n",
              "      <td>0</td>\n",
              "    </tr>\n",
              "    <tr>\n",
              "      <th>3</th>\n",
              "      <td>604000.0</td>\n",
              "      <td>4</td>\n",
              "      <td>3.00</td>\n",
              "      <td>1960</td>\n",
              "      <td>5000</td>\n",
              "      <td>1.0</td>\n",
              "      <td>0</td>\n",
              "      <td>0</td>\n",
              "      <td>5</td>\n",
              "      <td>7</td>\n",
              "      <td>1050</td>\n",
              "      <td>910</td>\n",
              "      <td>1965</td>\n",
              "      <td>0</td>\n",
              "      <td>98136</td>\n",
              "      <td>1360</td>\n",
              "      <td>5000</td>\n",
              "      <td>56</td>\n",
              "      <td>1</td>\n",
              "    </tr>\n",
              "    <tr>\n",
              "      <th>4</th>\n",
              "      <td>510000.0</td>\n",
              "      <td>3</td>\n",
              "      <td>2.00</td>\n",
              "      <td>1680</td>\n",
              "      <td>8080</td>\n",
              "      <td>1.0</td>\n",
              "      <td>0</td>\n",
              "      <td>0</td>\n",
              "      <td>3</td>\n",
              "      <td>8</td>\n",
              "      <td>1680</td>\n",
              "      <td>0</td>\n",
              "      <td>1987</td>\n",
              "      <td>0</td>\n",
              "      <td>98074</td>\n",
              "      <td>1800</td>\n",
              "      <td>7503</td>\n",
              "      <td>34</td>\n",
              "      <td>0</td>\n",
              "    </tr>\n",
              "  </tbody>\n",
              "</table>\n",
              "</div>"
            ],
            "text/plain": [
              "      price  bedrooms  bathrooms  ...  sqft_lot15  age  zip_981\n",
              "0  221900.0         3       1.00  ...        5650   66        1\n",
              "1  538000.0         3       2.25  ...        7639   70        1\n",
              "2  180000.0         2       1.00  ...        8062   88        0\n",
              "3  604000.0         4       3.00  ...        5000   56        1\n",
              "4  510000.0         3       2.00  ...        7503   34        0\n",
              "\n",
              "[5 rows x 19 columns]"
            ]
          },
          "metadata": {},
          "execution_count": 14
        }
      ]
    },
    {
      "cell_type": "markdown",
      "metadata": {
        "id": "itcuGvq-FoFj"
      },
      "source": [
        "# 3. Exploratory data analysis\n",
        "\n",
        "Before we do EDA let's classify our variables by data type\n",
        "\n",
        "\n",
        "1. Numerical continuous - price, sqft_living, sqft_lot, sqft_above, sft_basement, sqft_living15, sqft_lot15, age \n",
        "2. Numerical discrete - bedrooms, bathrooms, floors, view, condition, grade\n",
        "3. Categorical nominal - waterfront, zipcode\n",
        "\n",
        "\n"
      ]
    },
    {
      "cell_type": "markdown",
      "metadata": {
        "id": "dh90QHsoF3dL"
      },
      "source": [
        "## 3.1 Univariate"
      ]
    },
    {
      "cell_type": "code",
      "metadata": {
        "colab": {
          "base_uri": "https://localhost:8080/",
          "height": 404
        },
        "id": "Hg5_uNwYKwLR",
        "outputId": "aa94f9f5-e2da-42e3-aee9-8ce86c65efdf"
      },
      "source": [
        "# Creating a histogram showing the distribution of housing prices\n",
        "plt.figure(figsize=(20,6))\n",
        "sns.histplot(data=house, x='price', kde=True)\n",
        "plt.xlabel('Price in millions')\n",
        "plt.title('Price distribution of houses')\n",
        "plt.show()"
      ],
      "execution_count": 16,
      "outputs": [
        {
          "output_type": "display_data",
          "data": {
            "image/png": "[encoded data removed]",
            "text/plain": [
              "<Figure size 1440x432 with 1 Axes>"
            ]
          },
          "metadata": {
            "needs_background": "light"
          }
        }
      ]
    },
    {
      "cell_type": "markdown",
      "metadata": {
        "id": "dn7pSHdQNZqm"
      },
      "source": [
        "As you can see the distribution of prices is positively skewed, with most houses priced under a million. This is because there are outliers and this is something to consider when modelling later on."
      ]
    },
    {
      "cell_type": "code",
      "metadata": {
        "colab": {
          "base_uri": "https://localhost:8080/",
          "height": 606
        },
        "id": "Sm2V0BuBSxBE",
        "outputId": "5b1f35cd-c0f2-4685-9bb3-8cf374500b59"
      },
      "source": [
        "# Histograms to show the distribution of the other continous variables \n",
        "fig, ((ax1,ax2,ax3), (ax4,ax5,ax6)) = plt.subplots(2,3, figsize=(20,10))\n",
        "sns.histplot(data=house, x='sqft_living', kde=True, ax=ax1)\n",
        "sns.histplot(data=house, x='sqft_lot', kde=True, ax=ax4)\n",
        "sns.histplot(data=house, x='sqft_above', kde=True, ax=ax3)\n",
        "sns.histplot(data=house, x='sqft_basement', kde=True, ax=ax6)\n",
        "sns.histplot(data=house, x='sqft_living15', kde=True, ax=ax2)\n",
        "sns.histplot(data=house, x='sqft_lot15', kde=True, ax=ax5)\n",
        "plt.show()"
      ],
      "execution_count": 15,
      "outputs": [
        {
          "output_type": "display_data",
          "data": {
            "image/png": "[encoded data removed]",
            "text/plain": [
              "<Figure size 1440x720 with 6 Axes>"
            ]
          },
          "metadata": {
            "needs_background": "light"
          }
        }
      ]
    },
    {
      "cell_type": "markdown",
      "metadata": {
        "id": "9nfi-Xzq_Bas"
      },
      "source": [
        "The distribution of square feeet of living area, above, parking layout and basement are positively skewed due to some outliers. Also most of the houses do not have a basement and have small parking layout areas"
      ]
    },
    {
      "cell_type": "code",
      "metadata": {
        "colab": {
          "base_uri": "https://localhost:8080/",
          "height": 296
        },
        "id": "IOwvDSkFgDuC",
        "outputId": "6aa00e49-47eb-4bd4-f23c-0e1741848bad"
      },
      "source": [
        "sns.histplot(data=house, x='age', kde=True, bins=[x for x in range(0,140,10)])"
      ],
      "execution_count": 17,
      "outputs": [
        {
          "output_type": "execute_result",
          "data": {
            "text/plain": [
              "<matplotlib.axes._subplots.AxesSubplot at 0x7f85a0e09d90>"
            ]
          },
          "metadata": {},
          "execution_count": 17
        },
        {
          "output_type": "display_data",
          "data": {
            "image/png": "[encoded data removed]",
            "text/plain": [
              "<Figure size 432x288 with 1 Axes>"
            ]
          },
          "metadata": {
            "needs_background": "light"
          }
        }
      ]
    },
    {
      "cell_type": "markdown",
      "metadata": {
        "id": "_OSrbz8jATnm"
      },
      "source": [
        "Most of the houses are between 10 and 20 years old."
      ]
    },
    {
      "cell_type": "code",
      "metadata": {
        "colab": {
          "base_uri": "https://localhost:8080/",
          "height": 297
        },
        "id": "NSbvSwJWF8I9",
        "outputId": "14a60770-5198-4614-9aff-eb55c9a84c8f"
      },
      "source": [
        "house[['price', 'sqft_living', 'sqft_lot', 'sqft_above', 'sqft_basement', 'sqft_living15', 'sqft_lot15', 'age']].describe()"
      ],
      "execution_count": 19,
      "outputs": [
        {
          "output_type": "execute_result",
          "data": {
            "text/html": [
              "<div>\n",
              "<style scoped>\n",
              "    .dataframe tbody tr th:only-of-type {\n",
              "        vertical-align: middle;\n",
              "    }\n",
              "\n",
              "    .dataframe tbody tr th {\n",
              "        vertical-align: top;\n",
              "    }\n",
              "\n",
              "    .dataframe thead th {\n",
              "        text-align: right;\n",
              "    }\n",
              "</style>\n",
              "<table border=\"1\" class=\"dataframe\">\n",
              "  <thead>\n",
              "    <tr style=\"text-align: right;\">\n",
              "      <th></th>\n",
              "      <th>price</th>\n",
              "      <th>sqft_living</th>\n",
              "      <th>sqft_lot</th>\n",
              "      <th>sqft_above</th>\n",
              "      <th>sqft_basement</th>\n",
              "      <th>sqft_living15</th>\n",
              "      <th>sqft_lot15</th>\n",
              "      <th>age</th>\n",
              "    </tr>\n",
              "  </thead>\n",
              "  <tbody>\n",
              "    <tr>\n",
              "      <th>count</th>\n",
              "      <td>2.160700e+04</td>\n",
              "      <td>21607.000000</td>\n",
              "      <td>2.160700e+04</td>\n",
              "      <td>21607.000000</td>\n",
              "      <td>21607.000000</td>\n",
              "      <td>21607.000000</td>\n",
              "      <td>21607.000000</td>\n",
              "      <td>21607.000000</td>\n",
              "    </tr>\n",
              "    <tr>\n",
              "      <th>mean</th>\n",
              "      <td>5.402008e+05</td>\n",
              "      <td>2079.954783</td>\n",
              "      <td>1.511019e+04</td>\n",
              "      <td>1788.397186</td>\n",
              "      <td>291.557597</td>\n",
              "      <td>1986.591799</td>\n",
              "      <td>12770.571991</td>\n",
              "      <td>50.002083</td>\n",
              "    </tr>\n",
              "    <tr>\n",
              "      <th>std</th>\n",
              "      <td>3.674061e+05</td>\n",
              "      <td>918.526856</td>\n",
              "      <td>4.142579e+04</td>\n",
              "      <td>828.156250</td>\n",
              "      <td>442.618358</td>\n",
              "      <td>685.436161</td>\n",
              "      <td>27307.553760</td>\n",
              "      <td>29.370686</td>\n",
              "    </tr>\n",
              "    <tr>\n",
              "      <th>min</th>\n",
              "      <td>7.500000e+04</td>\n",
              "      <td>290.000000</td>\n",
              "      <td>5.200000e+02</td>\n",
              "      <td>290.000000</td>\n",
              "      <td>0.000000</td>\n",
              "      <td>399.000000</td>\n",
              "      <td>651.000000</td>\n",
              "      <td>6.000000</td>\n",
              "    </tr>\n",
              "    <tr>\n",
              "      <th>25%</th>\n",
              "      <td>3.217250e+05</td>\n",
              "      <td>1428.500000</td>\n",
              "      <td>5.040000e+03</td>\n",
              "      <td>1190.000000</td>\n",
              "      <td>0.000000</td>\n",
              "      <td>1490.000000</td>\n",
              "      <td>5100.000000</td>\n",
              "      <td>24.000000</td>\n",
              "    </tr>\n",
              "    <tr>\n",
              "      <th>50%</th>\n",
              "      <td>4.500000e+05</td>\n",
              "      <td>1910.000000</td>\n",
              "      <td>7.620000e+03</td>\n",
              "      <td>1560.000000</td>\n",
              "      <td>0.000000</td>\n",
              "      <td>1840.000000</td>\n",
              "      <td>7620.000000</td>\n",
              "      <td>46.000000</td>\n",
              "    </tr>\n",
              "    <tr>\n",
              "      <th>75%</th>\n",
              "      <td>6.450000e+05</td>\n",
              "      <td>2550.000000</td>\n",
              "      <td>1.069200e+04</td>\n",
              "      <td>2210.000000</td>\n",
              "      <td>560.000000</td>\n",
              "      <td>2360.000000</td>\n",
              "      <td>10083.500000</td>\n",
              "      <td>70.000000</td>\n",
              "    </tr>\n",
              "    <tr>\n",
              "      <th>max</th>\n",
              "      <td>7.700000e+06</td>\n",
              "      <td>13540.000000</td>\n",
              "      <td>1.651359e+06</td>\n",
              "      <td>9410.000000</td>\n",
              "      <td>4820.000000</td>\n",
              "      <td>6210.000000</td>\n",
              "      <td>871200.000000</td>\n",
              "      <td>121.000000</td>\n",
              "    </tr>\n",
              "  </tbody>\n",
              "</table>\n",
              "</div>"
            ],
            "text/plain": [
              "              price   sqft_living  ...     sqft_lot15           age\n",
              "count  2.160700e+04  21607.000000  ...   21607.000000  21607.000000\n",
              "mean   5.402008e+05   2079.954783  ...   12770.571991     50.002083\n",
              "std    3.674061e+05    918.526856  ...   27307.553760     29.370686\n",
              "min    7.500000e+04    290.000000  ...     651.000000      6.000000\n",
              "25%    3.217250e+05   1428.500000  ...    5100.000000     24.000000\n",
              "50%    4.500000e+05   1910.000000  ...    7620.000000     46.000000\n",
              "75%    6.450000e+05   2550.000000  ...   10083.500000     70.000000\n",
              "max    7.700000e+06  13540.000000  ...  871200.000000    121.000000\n",
              "\n",
              "[8 rows x 8 columns]"
            ]
          },
          "metadata": {},
          "execution_count": 19
        }
      ]
    },
    {
      "cell_type": "code",
      "metadata": {
        "colab": {
          "base_uri": "https://localhost:8080/",
          "height": 618
        },
        "id": "m04iv6hUwBn8",
        "outputId": "b28ab127-e2b1-4d3f-8ace-e8d2c50e26d5"
      },
      "source": [
        "# Plotting the frequency of the other discrete variables\n",
        "fig, ((ax1,ax2),(ax3,ax4),(ax5,ax6)) = plt.subplots(3,2, figsize=(20,10))\n",
        "sns.countplot(x=house['bedrooms'], ax=ax4)\n",
        "sns.countplot(x=house['floors'], ax=ax3)\n",
        "sns.countplot(x=house['view'], ax=ax5)\n",
        "sns.countplot(x=house['bathrooms'], ax=ax6)\n",
        "sns.countplot(x=house['condition'], ax=ax1)\n",
        "sns.countplot(x=house['grade'], ax=ax2)\n",
        "plt.xticks(rotation=90)\n",
        "plt.show()"
      ],
      "execution_count": 21,
      "outputs": [
        {
          "output_type": "display_data",
          "data": {
            "image/png": "[encoded data removed]",
            "text/plain": [
              "<Figure size 1440x720 with 6 Axes>"
            ]
          },
          "metadata": {
            "needs_background": "light"
          }
        }
      ]
    },
    {
      "cell_type": "code",
      "metadata": {
        "colab": {
          "base_uri": "https://localhost:8080/"
        },
        "id": "0ib559tM3NU6",
        "outputId": "3ce02295-6e5f-44e9-9af9-9dea519db8dd"
      },
      "source": [
        "house['zip_981'].value_counts()"
      ],
      "execution_count": 19,
      "outputs": [
        {
          "output_type": "execute_result",
          "data": {
            "text/plain": [
              "0    12633\n",
              "1     8974\n",
              "Name: zip_981, dtype: int64"
            ]
          },
          "metadata": {},
          "execution_count": 19
        }
      ]
    },
    {
      "cell_type": "markdown",
      "metadata": {
        "id": "F3bJFllPBEtF"
      },
      "source": [
        "Majority of our houses are in zipcode 980"
      ]
    },
    {
      "cell_type": "code",
      "metadata": {
        "colab": {
          "base_uri": "https://localhost:8080/"
        },
        "id": "J73yYdsABBM-",
        "outputId": "5bd9c35e-f4ee-4884-f793-80237331d68a"
      },
      "source": [
        "house['waterfront'].value_counts()"
      ],
      "execution_count": 20,
      "outputs": [
        {
          "output_type": "execute_result",
          "data": {
            "text/plain": [
              "0    21444\n",
              "1      163\n",
              "Name: waterfront, dtype: int64"
            ]
          },
          "metadata": {},
          "execution_count": 20
        }
      ]
    },
    {
      "cell_type": "markdown",
      "metadata": {
        "id": "LDB8T3s5bQz7"
      },
      "source": [
        "A strong majority of households don't have a waterfront"
      ]
    },
    {
      "cell_type": "markdown",
      "metadata": {
        "id": "Tj1VLApCbSHr"
      },
      "source": [
        "## 3.2 Bivariate"
      ]
    },
    {
      "cell_type": "code",
      "metadata": {
        "colab": {
          "base_uri": "https://localhost:8080/",
          "height": 726
        },
        "id": "IgL8uvTnbY7a",
        "outputId": "c49102e2-5b33-403b-dc6a-066ed8a03d24"
      },
      "source": [
        "# Scatter plot for price vs the continuous variables\n",
        "fig, ((ax1,ax2),(ax3,ax4),(ax5,ax6)) = plt.subplots(3,2,figsize=(20,12))\n",
        "sns.regplot(x=house['sqft_living'], y=house['price'], ax=ax1)\n",
        "sns.regplot(x=house['sqft_lot'], y=house['price'], ax=ax2)\n",
        "sns.regplot(x=house['sqft_basement'], y=house['price'], ax=ax3)\n",
        "sns.regplot(x=house['sqft_above'], y=house['price'], ax=ax4)\n",
        "sns.regplot(x=house['sqft_living15'], y=house['price'], ax=ax5)\n",
        "sns.regplot(x=house['sqft_lot15'], y=house['price'], ax=ax6)\n",
        "plt.show()"
      ],
      "execution_count": 23,
      "outputs": [
        {
          "output_type": "display_data",
          "data": {
            "image/png": "[encoded data removed]",
            "text/plain": [
              "<Figure size 1440x864 with 6 Axes>"
            ]
          },
          "metadata": {
            "needs_background": "light"
          }
        }
      ]
    },
    {
      "cell_type": "markdown",
      "metadata": {
        "id": "VlRVb3wFBinQ"
      },
      "source": [
        "House prices are positively related with the square feet of the living area, parking layout, above and basement. Meaning the larger the square feet the more expensive a house is. When we model later on, we expect that the coeficients of the variables above will be positive."
      ]
    },
    {
      "cell_type": "code",
      "metadata": {
        "colab": {
          "base_uri": "https://localhost:8080/",
          "height": 290
        },
        "id": "aR6Dgi5ff1eC",
        "outputId": "5fcbee0f-bfd5-460d-cfe9-cb213ceca092"
      },
      "source": [
        "sns.regplot(x=house['age'], y=house['price'])\n",
        "plt.show()"
      ],
      "execution_count": 24,
      "outputs": [
        {
          "output_type": "display_data",
          "data": {
            "image/png": "[encoded data removed]",
            "text/plain": [
              "<Figure size 432x288 with 1 Axes>"
            ]
          },
          "metadata": {
            "needs_background": "light"
          }
        }
      ]
    },
    {
      "cell_type": "markdown",
      "metadata": {
        "id": "CU09IWEbhB49"
      },
      "source": [
        "There seems to be no clear relationship between the age of a house and its price.  "
      ]
    },
    {
      "cell_type": "markdown",
      "metadata": {
        "id": "Smi_FFLzhC0w"
      },
      "source": [
        "## 4. Collinearity\n"
      ]
    },
    {
      "cell_type": "code",
      "metadata": {
        "colab": {
          "base_uri": "https://localhost:8080/",
          "height": 571
        },
        "id": "A_pGZUYVhS_r",
        "outputId": "ba13bea9-c162-44f2-c063-4ca7510589d5"
      },
      "source": [
        "# We will use vif to detect multicollinearity which does not apply to categorical variables\n",
        "# Creating a list of numerical varibles\n",
        "columns = ['price', 'bedrooms', 'bathrooms', 'sqft_living', 'sqft_lot', 'floors', 'view', 'condition', 'grade',\n",
        "           'sqft_above', 'sqft_basement', 'sqft_living15', 'sqft_lot15', 'age']\n",
        "calc_vif(house[columns])"
      ],
      "execution_count": 21,
      "outputs": [
        {
          "output_type": "stream",
          "name": "stderr",
          "text": [
            "/usr/local/lib/python3.7/dist-packages/statsmodels/tools/_testing.py:19: FutureWarning: pandas.util.testing is deprecated. Use the functions in the public API at pandas.testing instead.\n",
            "  import pandas.util.testing as tm\n",
            "/usr/local/lib/python3.7/dist-packages/statsmodels/stats/outliers_influence.py:185: RuntimeWarning: divide by zero encountered in double_scalars\n",
            "  vif = 1. / (1. - r_squared_i)\n"
          ]
        },
        {
          "output_type": "execute_result",
          "data": {
            "text/html": [
              "<div>\n",
              "<style scoped>\n",
              "    .dataframe tbody tr th:only-of-type {\n",
              "        vertical-align: middle;\n",
              "    }\n",
              "\n",
              "    .dataframe tbody tr th {\n",
              "        vertical-align: top;\n",
              "    }\n",
              "\n",
              "    .dataframe thead th {\n",
              "        text-align: right;\n",
              "    }\n",
              "</style>\n",
              "<table border=\"1\" class=\"dataframe\">\n",
              "  <thead>\n",
              "    <tr style=\"text-align: right;\">\n",
              "      <th></th>\n",
              "      <th>variables</th>\n",
              "      <th>VIF</th>\n",
              "    </tr>\n",
              "  </thead>\n",
              "  <tbody>\n",
              "    <tr>\n",
              "      <th>0</th>\n",
              "      <td>price</td>\n",
              "      <td>7.611659</td>\n",
              "    </tr>\n",
              "    <tr>\n",
              "      <th>1</th>\n",
              "      <td>bedrooms</td>\n",
              "      <td>22.480850</td>\n",
              "    </tr>\n",
              "    <tr>\n",
              "      <th>2</th>\n",
              "      <td>bathrooms</td>\n",
              "      <td>28.095994</td>\n",
              "    </tr>\n",
              "    <tr>\n",
              "      <th>3</th>\n",
              "      <td>sqft_living</td>\n",
              "      <td>inf</td>\n",
              "    </tr>\n",
              "    <tr>\n",
              "      <th>4</th>\n",
              "      <td>sqft_lot</td>\n",
              "      <td>2.364710</td>\n",
              "    </tr>\n",
              "    <tr>\n",
              "      <th>5</th>\n",
              "      <td>floors</td>\n",
              "      <td>16.041200</td>\n",
              "    </tr>\n",
              "    <tr>\n",
              "      <th>6</th>\n",
              "      <td>view</td>\n",
              "      <td>1.373227</td>\n",
              "    </tr>\n",
              "    <tr>\n",
              "      <th>7</th>\n",
              "      <td>condition</td>\n",
              "      <td>28.132313</td>\n",
              "    </tr>\n",
              "    <tr>\n",
              "      <th>8</th>\n",
              "      <td>grade</td>\n",
              "      <td>70.322744</td>\n",
              "    </tr>\n",
              "    <tr>\n",
              "      <th>9</th>\n",
              "      <td>sqft_above</td>\n",
              "      <td>inf</td>\n",
              "    </tr>\n",
              "    <tr>\n",
              "      <th>10</th>\n",
              "      <td>sqft_basement</td>\n",
              "      <td>inf</td>\n",
              "    </tr>\n",
              "    <tr>\n",
              "      <th>11</th>\n",
              "      <td>sqft_living15</td>\n",
              "      <td>26.402688</td>\n",
              "    </tr>\n",
              "    <tr>\n",
              "      <th>12</th>\n",
              "      <td>sqft_lot15</td>\n",
              "      <td>2.581347</td>\n",
              "    </tr>\n",
              "    <tr>\n",
              "      <th>13</th>\n",
              "      <td>age</td>\n",
              "      <td>6.483609</td>\n",
              "    </tr>\n",
              "  </tbody>\n",
              "</table>\n",
              "</div>"
            ],
            "text/plain": [
              "        variables        VIF\n",
              "0           price   7.611659\n",
              "1        bedrooms  22.480850\n",
              "2       bathrooms  28.095994\n",
              "3     sqft_living        inf\n",
              "4        sqft_lot   2.364710\n",
              "5          floors  16.041200\n",
              "6            view   1.373227\n",
              "7       condition  28.132313\n",
              "8           grade  70.322744\n",
              "9      sqft_above        inf\n",
              "10  sqft_basement        inf\n",
              "11  sqft_living15  26.402688\n",
              "12     sqft_lot15   2.581347\n",
              "13            age   6.483609"
            ]
          },
          "metadata": {},
          "execution_count": 21
        }
      ]
    },
    {
      "cell_type": "markdown",
      "metadata": {
        "id": "o4g5zYIZnlYi"
      },
      "source": [
        "Some of a variables like bedrooms, bathrooms, floors, condition, grade, sqft_living are multicollinear. This means that ordinary linear regression may not be the most reliable regression model to use."
      ]
    },
    {
      "cell_type": "markdown",
      "metadata": {
        "id": "HeaDSaTSnmA7"
      },
      "source": [
        "# 5. Train Test split"
      ]
    },
    {
      "cell_type": "code",
      "metadata": {
        "id": "5EwMhfuDnyGx"
      },
      "source": [
        "# Separating our dependent and independent variables\n",
        "X = house.drop(labels=['price', 'yr_built', 'yr_renovated', 'zipcode'], axis=1)\n",
        "y = house['price']\n",
        "\n",
        "# Splitting our dataset into a training and testing dataset\n",
        "from sklearn.model_selection import train_test_split\n",
        "X_train, X_test, y_train, y_test = train_test_split(X, y, test_size=0.2, random_state=23)"
      ],
      "execution_count": 22,
      "outputs": []
    },
    {
      "cell_type": "markdown",
      "metadata": {
        "id": "HkrrRsXGyNVr"
      },
      "source": [
        "# 6. Modelling"
      ]
    },
    {
      "cell_type": "markdown",
      "metadata": {
        "id": "TDLbTDbj957L"
      },
      "source": [
        "## 6.1 Multiple linear regression"
      ]
    },
    {
      "cell_type": "code",
      "metadata": {
        "colab": {
          "base_uri": "https://localhost:8080/"
        },
        "id": "2xEyB0ZByWVs",
        "outputId": "285b63cc-564c-4f1e-c2b2-82c60cd918d9"
      },
      "source": [
        "from sklearn.linear_model import LinearRegression\n",
        "\n",
        "# Performing ordinary linear regression\n",
        "linear = LinearRegression(normalize=True)\n",
        "linear.fit(X_train, y_train)\n",
        "\n",
        "# Creating a dictionary of the coefficients with their variables as the key\n",
        "linear_coef = {}\n",
        "for feat, coef in zip(X.columns, linear.coef_):\n",
        "  linear_coef[feat] = coef\n",
        "\n",
        "linear_coef"
      ],
      "execution_count": 23,
      "outputs": [
        {
          "output_type": "execute_result",
          "data": {
            "text/plain": [
              "{'age': 3015.196010677507,\n",
              " 'bathrooms': 45096.79058795658,\n",
              " 'bedrooms': -37795.18838965297,\n",
              " 'condition': 24141.418993493997,\n",
              " 'floors': 6880.425122361006,\n",
              " 'grade': 113695.13623433957,\n",
              " 'sqft_above': 86.35928998718653,\n",
              " 'sqft_basement': 71.58985111093709,\n",
              " 'sqft_living': 86.58398138757258,\n",
              " 'sqft_living15': 38.356458590489005,\n",
              " 'sqft_lot': 0.10555885198217807,\n",
              " 'sqft_lot15': -0.5351897037511414,\n",
              " 'view': 38961.82630501307,\n",
              " 'waterfront': 602649.2551225678,\n",
              " 'zip_981': 68647.78627910675}"
            ]
          },
          "metadata": {},
          "execution_count": 23
        }
      ]
    },
    {
      "cell_type": "code",
      "metadata": {
        "colab": {
          "base_uri": "https://localhost:8080/"
        },
        "id": "cyVij86PYFVi",
        "outputId": "0444272a-dbec-4272-99fe-e69a47589dbf"
      },
      "source": [
        "# Finding the average performance of the linear model using cross validation\n",
        "from sklearn.model_selection import cross_validate\n",
        "linear_cv = cross_validate(linear, X, y, cv = 10, scoring = 'neg_root_mean_squared_error', return_train_score=True)\n",
        "linear_test = abs(linear_cv['test_score'].mean())\n",
        "linear_train = abs(linear_cv['train_score'].mean())\n",
        "print(f'Average performance on training is a root mean squared error score of {linear_train}')\n",
        "print(f'Average performance on testing is a root mean squared error score of {linear_test}')"
      ],
      "execution_count": 24,
      "outputs": [
        {
          "output_type": "stream",
          "name": "stdout",
          "text": [
            "Average performance on training is a root mean squared error score of 214563.30704074595\n",
            "Average performance on testing is a root mean squared error score of 215530.84935664176\n"
          ]
        }
      ]
    },
    {
      "cell_type": "code",
      "metadata": {
        "colab": {
          "base_uri": "https://localhost:8080/",
          "height": 290
        },
        "id": "MHtJpRKv6AkM",
        "outputId": "87951853-3637-41ad-a3a5-a8c1d8d281bb"
      },
      "source": [
        "# Plotting the residuals\n",
        "# Calculating the residuals\n",
        "residuals = np.subtract(linear.predict(X_test),y_test)\n",
        "\n",
        "# Plotting the residuals\n",
        "plt.scatter(linear.predict(X_test), residuals, color='blue')\n",
        "plt.ylabel('Residual')\n",
        "plt.xlabel('Fitted value')\n",
        "plt.axhline(y= residuals.mean(), color='red', linewidth=1)\n",
        "plt.show()"
      ],
      "execution_count": 25,
      "outputs": [
        {
          "output_type": "display_data",
          "data": {
            "image/png": "[encoded data removed]",
            "text/plain": [
              "<Figure size 432x288 with 1 Axes>"
            ]
          },
          "metadata": {
            "needs_background": "light"
          }
        }
      ]
    },
    {
      "cell_type": "markdown",
      "metadata": {
        "id": "DuGycYO7EyVt"
      },
      "source": [
        "The residuals are not randomly spaced out and are cone shaped suggesting that there is heteroscedasticity"
      ]
    },
    {
      "cell_type": "code",
      "metadata": {
        "colab": {
          "base_uri": "https://localhost:8080/"
        },
        "id": "CMTeGyPp7OnQ",
        "outputId": "cd5211e7-51e2-4d2e-c64d-ac7cc6fa39c1"
      },
      "source": [
        "# Confirming heteroscedasticity using bartlett's test\n",
        "import scipy as sp\n",
        "\n",
        "test_result, p_value = sp.stats.bartlett(linear.predict(X_test), residuals)\n",
        "\n",
        "if p_value < 0.05:\n",
        "  print('Reject null hypothesis therefore variances are heteroscedastic')\n",
        "else:\n",
        "  print('Do not reject null hypothesis therefore variances are homoscedastic')"
      ],
      "execution_count": 26,
      "outputs": [
        {
          "output_type": "stream",
          "name": "stdout",
          "text": [
            "Reject null hypothesis therefore variances are heteroscedastic\n"
          ]
        }
      ]
    },
    {
      "cell_type": "markdown",
      "metadata": {
        "id": "v9jHA3xm9wUt"
      },
      "source": [
        "The OLS model above is not reliable due to the presence of outliers, multicollinearity and heteroscedasticity"
      ]
    },
    {
      "cell_type": "markdown",
      "metadata": {
        "id": "wsQ7_i4D9wyc"
      },
      "source": [
        "## 6.2 Quantile Regression"
      ]
    },
    {
      "cell_type": "code",
      "metadata": {
        "colab": {
          "base_uri": "https://localhost:8080/",
          "height": 295
        },
        "id": "Hr8zV3tU-Jds",
        "outputId": "c9dcfc49-b7b8-4a1f-b4a2-b69bfeae4e95"
      },
      "source": [
        "# Plotting the house prices by quantiles\n",
        "price_quan = house['price'].quantile(np.arange(0.05,1,0.05).tolist())\n",
        "plt.plot(price_quan.index, price_quan.values)\n",
        "plt.xlabel('Quantiles')\n",
        "plt.ylabel('House prices')\n",
        "plt.title('House prices by quantiles')\n",
        "plt.show()"
      ],
      "execution_count": 27,
      "outputs": [
        {
          "output_type": "display_data",
          "data": {
            "image/png": "[encoded data removed]",
            "text/plain": [
              "<Figure size 432x288 with 1 Axes>"
            ]
          },
          "metadata": {
            "needs_background": "light"
          }
        }
      ]
    },
    {
      "cell_type": "markdown",
      "metadata": {
        "id": "WU2PWbKEH3Cm"
      },
      "source": [
        "As you can see above house prices are steadily increasing per quantile suggesting that the factors determining prices have different magnitudes per quantile. Quantile regression will help us determine the coefficients of our factors in a particular quantile and we can see if they are signifiantly different to other quntiles."
      ]
    },
    {
      "cell_type": "code",
      "metadata": {
        "colab": {
          "base_uri": "https://localhost:8080/",
          "height": 348
        },
        "id": "QagBtnCt_5AO",
        "outputId": "6aa6107d-d8fe-4f6a-c850-274929abca6d"
      },
      "source": [
        "import statsmodels.formula.api as smf\n",
        "import warnings\n",
        "warnings.filterwarnings(\"ignore\")\n",
        "var = ['price', 'bedrooms', 'bathrooms', 'sqft_living', 'sqft_lot', 'floors', 'waterfront', 'view', 'condition', 'grade', 'sqft_above',\n",
        "       'sqft_basement', 'sqft_living15', 'sqft_lot15', 'age', 'zip_981']\n",
        "\n",
        "quantiles = np.arange(0.1,1,0.1) \n",
        "models = []\n",
        "params = []\n",
        "\n",
        "form = 'price ~ bedrooms + bathrooms + sqft_lot + floors + view + C(waterfront) + condition + grade + sqft_above + sqft_basement + sqft_living15 + sqft_lot15 + age + C(zip_981)'\n",
        "quan = smf.quantreg(formula=form, data=house[var])\n",
        "\n",
        "for qt in quantiles: \n",
        "\tres = quan.fit(q=qt)\n",
        "\tmodels.append(res)\n",
        "\tparams.append([qt] + res.params.values.tolist())\n",
        "\n",
        "params = pd.DataFrame(data = params, columns =['quantile'] + X.columns.tolist())\n",
        "params"
      ],
      "execution_count": 40,
      "outputs": [
        {
          "output_type": "execute_result",
          "data": {
            "text/html": [
              "<div>\n",
              "<style scoped>\n",
              "    .dataframe tbody tr th:only-of-type {\n",
              "        vertical-align: middle;\n",
              "    }\n",
              "\n",
              "    .dataframe tbody tr th {\n",
              "        vertical-align: top;\n",
              "    }\n",
              "\n",
              "    .dataframe thead th {\n",
              "        text-align: right;\n",
              "    }\n",
              "</style>\n",
              "<table border=\"1\" class=\"dataframe\">\n",
              "  <thead>\n",
              "    <tr style=\"text-align: right;\">\n",
              "      <th></th>\n",
              "      <th>quantile</th>\n",
              "      <th>bedrooms</th>\n",
              "      <th>bathrooms</th>\n",
              "      <th>sqft_living</th>\n",
              "      <th>sqft_lot</th>\n",
              "      <th>floors</th>\n",
              "      <th>waterfront</th>\n",
              "      <th>view</th>\n",
              "      <th>condition</th>\n",
              "      <th>grade</th>\n",
              "      <th>sqft_above</th>\n",
              "      <th>sqft_basement</th>\n",
              "      <th>sqft_living15</th>\n",
              "      <th>sqft_lot15</th>\n",
              "      <th>age</th>\n",
              "      <th>zip_981</th>\n",
              "    </tr>\n",
              "  </thead>\n",
              "  <tbody>\n",
              "    <tr>\n",
              "      <th>0</th>\n",
              "      <td>0.1</td>\n",
              "      <td>-429578.787497</td>\n",
              "      <td>162960.968872</td>\n",
              "      <td>54347.733735</td>\n",
              "      <td>-16169.978210</td>\n",
              "      <td>21831.647154</td>\n",
              "      <td>0.091761</td>\n",
              "      <td>34386.249876</td>\n",
              "      <td>17032.525314</td>\n",
              "      <td>17956.253870</td>\n",
              "      <td>48980.388465</td>\n",
              "      <td>60.183724</td>\n",
              "      <td>79.303101</td>\n",
              "      <td>41.759853</td>\n",
              "      <td>0.112040</td>\n",
              "      <td>882.126954</td>\n",
              "    </tr>\n",
              "    <tr>\n",
              "      <th>1</th>\n",
              "      <td>0.2</td>\n",
              "      <td>-728312.801112</td>\n",
              "      <td>195043.047658</td>\n",
              "      <td>63500.553056</td>\n",
              "      <td>-22350.520568</td>\n",
              "      <td>27202.960788</td>\n",
              "      <td>0.125192</td>\n",
              "      <td>36923.970927</td>\n",
              "      <td>20227.521483</td>\n",
              "      <td>22202.232166</td>\n",
              "      <td>81088.075008</td>\n",
              "      <td>65.056556</td>\n",
              "      <td>78.605353</td>\n",
              "      <td>63.995103</td>\n",
              "      <td>-0.054830</td>\n",
              "      <td>1826.391306</td>\n",
              "    </tr>\n",
              "    <tr>\n",
              "      <th>2</th>\n",
              "      <td>0.3</td>\n",
              "      <td>-841192.623298</td>\n",
              "      <td>312370.858818</td>\n",
              "      <td>65016.263657</td>\n",
              "      <td>-21776.750515</td>\n",
              "      <td>27636.858698</td>\n",
              "      <td>0.137095</td>\n",
              "      <td>40033.781842</td>\n",
              "      <td>23804.760466</td>\n",
              "      <td>24516.241236</td>\n",
              "      <td>93520.300239</td>\n",
              "      <td>72.037184</td>\n",
              "      <td>84.824644</td>\n",
              "      <td>69.355087</td>\n",
              "      <td>-0.185054</td>\n",
              "      <td>2213.635730</td>\n",
              "    </tr>\n",
              "    <tr>\n",
              "      <th>3</th>\n",
              "      <td>0.4</td>\n",
              "      <td>-863288.281758</td>\n",
              "      <td>210251.515231</td>\n",
              "      <td>63346.274876</td>\n",
              "      <td>-24494.229570</td>\n",
              "      <td>28519.580989</td>\n",
              "      <td>0.199287</td>\n",
              "      <td>41108.758335</td>\n",
              "      <td>29853.587888</td>\n",
              "      <td>23948.463039</td>\n",
              "      <td>98188.331751</td>\n",
              "      <td>83.685624</td>\n",
              "      <td>99.812175</td>\n",
              "      <td>68.198615</td>\n",
              "      <td>-0.251077</td>\n",
              "      <td>2358.567761</td>\n",
              "    </tr>\n",
              "    <tr>\n",
              "      <th>4</th>\n",
              "      <td>0.5</td>\n",
              "      <td>-889483.344824</td>\n",
              "      <td>394248.688778</td>\n",
              "      <td>60289.539894</td>\n",
              "      <td>-24361.502602</td>\n",
              "      <td>31624.248533</td>\n",
              "      <td>0.138540</td>\n",
              "      <td>38634.006306</td>\n",
              "      <td>35517.835014</td>\n",
              "      <td>24956.085670</td>\n",
              "      <td>103785.328493</td>\n",
              "      <td>95.210544</td>\n",
              "      <td>109.778191</td>\n",
              "      <td>59.297890</td>\n",
              "      <td>-0.184683</td>\n",
              "      <td>2537.022341</td>\n",
              "    </tr>\n",
              "    <tr>\n",
              "      <th>5</th>\n",
              "      <td>0.6</td>\n",
              "      <td>-890229.714463</td>\n",
              "      <td>572532.256368</td>\n",
              "      <td>58300.349987</td>\n",
              "      <td>-24311.147747</td>\n",
              "      <td>31056.002447</td>\n",
              "      <td>0.154482</td>\n",
              "      <td>34075.606413</td>\n",
              "      <td>41020.481662</td>\n",
              "      <td>23697.351137</td>\n",
              "      <td>107363.461562</td>\n",
              "      <td>105.375249</td>\n",
              "      <td>124.144878</td>\n",
              "      <td>57.605697</td>\n",
              "      <td>-0.263701</td>\n",
              "      <td>2629.839199</td>\n",
              "    </tr>\n",
              "    <tr>\n",
              "      <th>6</th>\n",
              "      <td>0.7</td>\n",
              "      <td>-887051.830329</td>\n",
              "      <td>392259.743057</td>\n",
              "      <td>60735.941958</td>\n",
              "      <td>-26533.046704</td>\n",
              "      <td>27735.886085</td>\n",
              "      <td>0.169394</td>\n",
              "      <td>21923.981070</td>\n",
              "      <td>60515.747239</td>\n",
              "      <td>29329.534760</td>\n",
              "      <td>110325.081644</td>\n",
              "      <td>130.271758</td>\n",
              "      <td>142.426826</td>\n",
              "      <td>48.635948</td>\n",
              "      <td>-0.355868</td>\n",
              "      <td>2556.680550</td>\n",
              "    </tr>\n",
              "    <tr>\n",
              "      <th>7</th>\n",
              "      <td>0.8</td>\n",
              "      <td>-907560.470762</td>\n",
              "      <td>179191.933663</td>\n",
              "      <td>59710.822780</td>\n",
              "      <td>-34415.379456</td>\n",
              "      <td>33403.928061</td>\n",
              "      <td>0.302681</td>\n",
              "      <td>21815.570952</td>\n",
              "      <td>67893.288085</td>\n",
              "      <td>20173.221476</td>\n",
              "      <td>116267.145214</td>\n",
              "      <td>157.927545</td>\n",
              "      <td>164.923573</td>\n",
              "      <td>49.436048</td>\n",
              "      <td>-0.669492</td>\n",
              "      <td>2978.973272</td>\n",
              "    </tr>\n",
              "    <tr>\n",
              "      <th>8</th>\n",
              "      <td>0.9</td>\n",
              "      <td>-820715.926674</td>\n",
              "      <td>-27877.275126</td>\n",
              "      <td>-10562.059492</td>\n",
              "      <td>-63898.931485</td>\n",
              "      <td>73289.489021</td>\n",
              "      <td>0.035244</td>\n",
              "      <td>44317.247613</td>\n",
              "      <td>315322.721233</td>\n",
              "      <td>7386.156334</td>\n",
              "      <td>101836.800276</td>\n",
              "      <td>304.358612</td>\n",
              "      <td>228.787219</td>\n",
              "      <td>-58.469046</td>\n",
              "      <td>-0.684829</td>\n",
              "      <td>4854.710554</td>\n",
              "    </tr>\n",
              "  </tbody>\n",
              "</table>\n",
              "</div>"
            ],
            "text/plain": [
              "   quantile       bedrooms      bathrooms  ...  sqft_lot15       age      zip_981\n",
              "0       0.1 -429578.787497  162960.968872  ...   41.759853  0.112040   882.126954\n",
              "1       0.2 -728312.801112  195043.047658  ...   63.995103 -0.054830  1826.391306\n",
              "2       0.3 -841192.623298  312370.858818  ...   69.355087 -0.185054  2213.635730\n",
              "3       0.4 -863288.281758  210251.515231  ...   68.198615 -0.251077  2358.567761\n",
              "4       0.5 -889483.344824  394248.688778  ...   59.297890 -0.184683  2537.022341\n",
              "5       0.6 -890229.714463  572532.256368  ...   57.605697 -0.263701  2629.839199\n",
              "6       0.7 -887051.830329  392259.743057  ...   48.635948 -0.355868  2556.680550\n",
              "7       0.8 -907560.470762  179191.933663  ...   49.436048 -0.669492  2978.973272\n",
              "8       0.9 -820715.926674  -27877.275126  ...  -58.469046 -0.684829  4854.710554\n",
              "\n",
              "[9 rows x 16 columns]"
            ]
          },
          "metadata": {},
          "execution_count": 40
        }
      ]
    },
    {
      "cell_type": "markdown",
      "metadata": {
        "id": "DQKyV0_8M3sc"
      },
      "source": [
        "Some observations: \n",
        "1. bathrooms, sqft_living and sqft_lot are negavitely realted to house price for the top priced prices q=0.9\n",
        "2. the coefficients for most variables increase as you go up the quantiles\n",
        "\n",
        "\n",
        "\n"
      ]
    },
    {
      "cell_type": "markdown",
      "metadata": {
        "id": "sRnmahDvGxGX"
      },
      "source": [
        "## 6.3 Ridge Regression"
      ]
    },
    {
      "cell_type": "code",
      "metadata": {
        "colab": {
          "base_uri": "https://localhost:8080/"
        },
        "id": "07fwkTNYHY68",
        "outputId": "6daa02e2-47da-4e4a-a798-1f8160a941a3"
      },
      "source": [
        "from sklearn.model_selection import GridSearchCV\n",
        "from sklearn.linear_model import Ridge\n",
        "\n",
        "# Hyper-parameter tuning to find the alpha level that will result in the best model score\n",
        "ridge = Ridge(normalize=True)\n",
        "search = GridSearchCV(estimator=ridge, param_grid={'alpha':np.concatenate((np.arange(0.1,2,0.1), np.arange(2, 5, 0.5), np.arange(5, 25, 1)))}, \n",
        "                      scoring= 'neg_root_mean_squared_error', n_jobs=1, cv=10)\n",
        "search.fit(X_train, y_train)\n",
        "\n",
        "print(search.best_params_)\n",
        "print(search.best_score_) "
      ],
      "execution_count": 41,
      "outputs": [
        {
          "output_type": "stream",
          "name": "stdout",
          "text": [
            "{'alpha': 0.1}\n",
            "-219427.5732652347\n"
          ]
        }
      ]
    },
    {
      "cell_type": "markdown",
      "metadata": {
        "id": "JULBIJ79OFm_"
      },
      "source": [
        "The best alpha value according to our training dataset is 0.1 and we will use that to test the performance of the ridge model on the test dataset"
      ]
    },
    {
      "cell_type": "code",
      "metadata": {
        "colab": {
          "base_uri": "https://localhost:8080/"
        },
        "id": "qofe63bNTR2Y",
        "outputId": "862cfe31-c45c-4d68-f059-a2dd489fb011"
      },
      "source": [
        "# Applying the tuned alpha value of our datasets to train our model\n",
        "ridge1 = Ridge(normalize=True, alpha=0.1)\n",
        "ridge1.fit(X_train, y_train)\n",
        "\n",
        "# Creating a dictionary of the variable coefficients\n",
        "ridge_coef = {}\n",
        "for coef, var in zip(ridge1.coef_, X.columns):\n",
        "  ridge_coef[var] = coef\n",
        "\n",
        "ridge_coef"
      ],
      "execution_count": 42,
      "outputs": [
        {
          "output_type": "execute_result",
          "data": {
            "text/plain": [
              "{'age': 2450.836512441448,\n",
              " 'bathrooms': 42512.54553562971,\n",
              " 'bedrooms': -27726.93051481089,\n",
              " 'condition': 25559.359798037243,\n",
              " 'floors': 11438.30344415438,\n",
              " 'grade': 94946.05645198408,\n",
              " 'sqft_above': 80.54443429033597,\n",
              " 'sqft_basement': 71.09924166237923,\n",
              " 'sqft_living': 81.7375881683337,\n",
              " 'sqft_living15': 52.97340934211839,\n",
              " 'sqft_lot': 0.07952200739317111,\n",
              " 'sqft_lot15': -0.4078607107834185,\n",
              " 'view': 43115.7221615037,\n",
              " 'waterfront': 557984.4981312044,\n",
              " 'zip_981': 71923.79276186098}"
            ]
          },
          "metadata": {},
          "execution_count": 42
        }
      ]
    },
    {
      "cell_type": "code",
      "metadata": {
        "colab": {
          "base_uri": "https://localhost:8080/"
        },
        "id": "YX87Rn7vYYkA",
        "outputId": "565a3087-b8de-4a28-91a6-f0c2977637bf"
      },
      "source": [
        "# Finding the average performance of the ridge model using cross validation\n",
        "ridge_cv = cross_validate(ridge1, X, y, cv = 10, scoring = 'neg_root_mean_squared_error', return_train_score=True)\n",
        "ridge_test = abs(ridge_cv['test_score'].mean())\n",
        "ridge_train = abs(ridge_cv['train_score'].mean())\n",
        "print(f'Average performance on training is a root mean squared error score of {ridge_train}')\n",
        "print(f'Average performance on testing is a root mean squared error score of {ridge_test}')"
      ],
      "execution_count": 43,
      "outputs": [
        {
          "output_type": "stream",
          "name": "stdout",
          "text": [
            "Average performance on training is a root mean squared error score of 215551.11719676014\n",
            "Average performance on testing is a root mean squared error score of 216154.20379612307\n"
          ]
        }
      ]
    },
    {
      "cell_type": "markdown",
      "metadata": {
        "id": "uV7TMPtFa_vh"
      },
      "source": [
        "## 6.4 Lasso Regression"
      ]
    },
    {
      "cell_type": "code",
      "metadata": {
        "colab": {
          "base_uri": "https://localhost:8080/"
        },
        "id": "3EBbnu3kdNXF",
        "outputId": "4315b0f1-eae9-46da-9758-ce6effba8afc"
      },
      "source": [
        "from sklearn.linear_model import Lasso\n",
        "\n",
        "# Hyper-parameter tuning to find the alpha level that will result in the best model score\n",
        "lasso = Lasso(normalize=True)\n",
        "search = GridSearchCV(estimator=lasso, param_grid={'alpha':np.concatenate((np.arange(0.1,2,0.1), np.arange(2, 5, 0.5), np.arange(5, 25, 1)))}, \n",
        "                      scoring= 'neg_root_mean_squared_error', n_jobs=1, cv=10)\n",
        "\n",
        "search.fit(X_train, y_train)\n",
        "\n",
        "print(search.best_params_)\n",
        "print(search.best_score_) "
      ],
      "execution_count": 44,
      "outputs": [
        {
          "output_type": "stream",
          "name": "stdout",
          "text": [
            "{'alpha': 0.6}\n",
            "-218578.82285876106\n"
          ]
        }
      ]
    },
    {
      "cell_type": "markdown",
      "metadata": {
        "id": "WG_tcBfVRnyi"
      },
      "source": [
        "The best alpha value according to our training dataset is 0.6 and we will use that to test the performance of the lasso model on the test dataset"
      ]
    },
    {
      "cell_type": "code",
      "metadata": {
        "colab": {
          "base_uri": "https://localhost:8080/"
        },
        "id": "0ekjlOIKeg6T",
        "outputId": "141b8203-5b13-48f8-ac64-dd90883f7ecb"
      },
      "source": [
        "# Applying the tuned alpha value of our datasets to train our model\n",
        "lasso1 = Lasso(normalize=True, alpha=0.6)\n",
        "lasso1.fit(X_train, y_train)\n",
        "\n",
        "# Creating a dictionary of the variable coefficients\n",
        "lasso_coef = {}\n",
        "for coef, var in zip(lasso1.coef_, X.columns):\n",
        "  lasso_coef[var] = coef\n",
        "\n",
        "lasso_coef"
      ],
      "execution_count": 45,
      "outputs": [
        {
          "output_type": "execute_result",
          "data": {
            "text/plain": [
              "{'age': 3009.9776493162144,\n",
              " 'bathrooms': 44891.79375247438,\n",
              " 'bedrooms': -37576.01091491517,\n",
              " 'condition': 24003.642990524673,\n",
              " 'floors': 6740.67852015794,\n",
              " 'grade': 113708.1787673001,\n",
              " 'sqft_above': 14.674059325426258,\n",
              " 'sqft_basement': 0.0,\n",
              " 'sqft_living': 158.18577259186964,\n",
              " 'sqft_living15': 38.209492139114154,\n",
              " 'sqft_lot': 0.09851668251530774,\n",
              " 'sqft_lot15': -0.5241287724952391,\n",
              " 'view': 38975.6256628494,\n",
              " 'waterfront': 602053.2502266773,\n",
              " 'zip_981': 68528.04266623638}"
            ]
          },
          "metadata": {},
          "execution_count": 45
        }
      ]
    },
    {
      "cell_type": "code",
      "metadata": {
        "colab": {
          "base_uri": "https://localhost:8080/"
        },
        "id": "4Vq1khztf_gd",
        "outputId": "6c41343e-792b-4d7f-a526-e0bff1433bc8"
      },
      "source": [
        "# Finding the average performance of the lasso model using cross validation\n",
        "lasso_cv = cross_validate(lasso1, X, y, cv = 10, scoring = 'neg_root_mean_squared_error', return_train_score=True)\n",
        "lasso_test = abs(lasso_cv['test_score'].mean())\n",
        "lasso_train = abs(lasso_cv['train_score'].mean())\n",
        "print(f'Average performance on training is a root mean squared error score of {lasso_train}')\n",
        "print(f'Average performance on testing is a root mean squared error score of {lasso_test}')"
      ],
      "execution_count": 46,
      "outputs": [
        {
          "output_type": "stream",
          "name": "stdout",
          "text": [
            "Average performance on training is a root mean squared error score of 214563.50056521632\n",
            "Average performance on testing is a root mean squared error score of 215527.67255987428\n"
          ]
        }
      ]
    },
    {
      "cell_type": "markdown",
      "metadata": {
        "id": "RfEj1oW1hUwS"
      },
      "source": [
        "## 6.5 Net Elastic Regression"
      ]
    },
    {
      "cell_type": "code",
      "metadata": {
        "colab": {
          "base_uri": "https://localhost:8080/"
        },
        "id": "g09eUCCMhyaL",
        "outputId": "2b5c64b1-47d0-4abc-c9ea-4af42de3819d"
      },
      "source": [
        "from sklearn.linear_model import ElasticNet\n",
        "\n",
        "# Hyper-parameter tuning to find the alpha level and l1 ratio that will result in the best model score\n",
        "elastic = ElasticNet(normalize=True)\n",
        "search = GridSearchCV(estimator=elastic, param_grid={'alpha':np.logspace(-5,2,8),'l1_ratio':[.2,.4,.6,.8]}, scoring='neg_root_mean_squared_error',\n",
        "                    n_jobs=1, refit=True, cv=10)\n",
        "\n",
        "search.fit(X_train, y_train)\n",
        "\n",
        "print(search.best_params_)\n",
        "print(search.best_score_) "
      ],
      "execution_count": 47,
      "outputs": [
        {
          "output_type": "stream",
          "name": "stdout",
          "text": [
            "{'alpha': 1e-05, 'l1_ratio': 0.8}\n",
            "-218653.60153146592\n"
          ]
        }
      ]
    },
    {
      "cell_type": "markdown",
      "metadata": {
        "id": "BhNUT4sZSk7I"
      },
      "source": [
        "The best alpha value and l1 ratio according to our training dataset is 1e-05 and 0.8 respectively. We will use them to test the performance of the net elastic model on the test dataset"
      ]
    },
    {
      "cell_type": "code",
      "metadata": {
        "colab": {
          "base_uri": "https://localhost:8080/"
        },
        "id": "4W4kKqzWj_N_",
        "outputId": "b45c955a-2620-4a2a-d588-088ffadb9304"
      },
      "source": [
        "# Applying the tuned alpha and l1 ration to train our model\n",
        "elastic1 = ElasticNet(normalize=True, alpha=1e-05, l1_ratio=0.8)\n",
        "elastic1.fit(X_train, y_train)\n",
        "\n",
        "# Creating a dictionary of the variable coefficients\n",
        "elastic_coef = {}\n",
        "for coef, var in zip(elastic1.coef_, X.columns):\n",
        "  elastic_coef[var] = coef\n",
        "\n",
        "elastic_coef"
      ],
      "execution_count": 48,
      "outputs": [
        {
          "output_type": "execute_result",
          "data": {
            "text/plain": [
              "{'age': 2784.7167150344017,\n",
              " 'bathrooms': 43908.826497704904,\n",
              " 'bedrooms': -33923.752131726265,\n",
              " 'condition': 24957.00705498976,\n",
              " 'floors': 8715.6149514754,\n",
              " 'grade': 105839.84698963279,\n",
              " 'sqft_above': 84.2911770835465,\n",
              " 'sqft_basement': 71.46516693247202,\n",
              " 'sqft_living': 84.87164422356312,\n",
              " 'sqft_living15': 45.095888864621664,\n",
              " 'sqft_lot': 0.09457911552919153,\n",
              " 'sqft_lot15': -0.48493944018386953,\n",
              " 'view': 40663.46616324395,\n",
              " 'waterfront': 586096.996246874,\n",
              " 'zip_981': 70893.75686775448}"
            ]
          },
          "metadata": {},
          "execution_count": 48
        }
      ]
    },
    {
      "cell_type": "code",
      "metadata": {
        "colab": {
          "base_uri": "https://localhost:8080/"
        },
        "id": "DguYBmjtlfwc",
        "outputId": "43e92260-c5d2-4232-facf-47a42e47b14e"
      },
      "source": [
        "# Finding the average performance of the net elastic model using cross validation\n",
        "elastic_cv = cross_validate(elastic1, X, y, cv = 10, scoring = 'neg_root_mean_squared_error', return_train_score=True)\n",
        "elastic_test = abs(elastic_cv['test_score'].mean())\n",
        "elastic_train = abs(elastic_cv['train_score'].mean())\n",
        "print(f'Average performance on training is a root mean squared error score of {elastic_train}')\n",
        "print(f'Average performance on testing is a root mean squared error score of {elastic_test}')"
      ],
      "execution_count": 49,
      "outputs": [
        {
          "output_type": "stream",
          "name": "stdout",
          "text": [
            "Average performance on training is a root mean squared error score of 214755.83573564063\n",
            "Average performance on testing is a root mean squared error score of 215560.7530828909\n"
          ]
        }
      ]
    },
    {
      "cell_type": "markdown",
      "metadata": {
        "id": "_LKqScC6mf_6"
      },
      "source": [
        "# 7 Comparing the models"
      ]
    },
    {
      "cell_type": "code",
      "metadata": {
        "colab": {
          "base_uri": "https://localhost:8080/",
          "height": 173
        },
        "id": "RUygH6A6mllc",
        "outputId": "aef7ad62-3a12-4d39-eaae-602b9f832518"
      },
      "source": [
        "# Creating a dataframe showing the root mean squared errors of each model on training and testing\n",
        "scores = {\n",
        "    'model' : ['linear', 'ridge', 'lasso', 'net elatic'],\n",
        "    'test score' : [linear_test, ridge_test, lasso_test, elastic_test],\n",
        "    'train score' : [linear_train, ridge_train, lasso_train, elastic_train]\n",
        "}\n",
        "scores_df = pd.DataFrame(scores)\n",
        "scores_df"
      ],
      "execution_count": 50,
      "outputs": [
        {
          "output_type": "execute_result",
          "data": {
            "text/html": [
              "<div>\n",
              "<style scoped>\n",
              "    .dataframe tbody tr th:only-of-type {\n",
              "        vertical-align: middle;\n",
              "    }\n",
              "\n",
              "    .dataframe tbody tr th {\n",
              "        vertical-align: top;\n",
              "    }\n",
              "\n",
              "    .dataframe thead th {\n",
              "        text-align: right;\n",
              "    }\n",
              "</style>\n",
              "<table border=\"1\" class=\"dataframe\">\n",
              "  <thead>\n",
              "    <tr style=\"text-align: right;\">\n",
              "      <th></th>\n",
              "      <th>model</th>\n",
              "      <th>test score</th>\n",
              "      <th>train score</th>\n",
              "    </tr>\n",
              "  </thead>\n",
              "  <tbody>\n",
              "    <tr>\n",
              "      <th>0</th>\n",
              "      <td>linear</td>\n",
              "      <td>215530.849357</td>\n",
              "      <td>214563.307041</td>\n",
              "    </tr>\n",
              "    <tr>\n",
              "      <th>1</th>\n",
              "      <td>ridge</td>\n",
              "      <td>216154.203796</td>\n",
              "      <td>215551.117197</td>\n",
              "    </tr>\n",
              "    <tr>\n",
              "      <th>2</th>\n",
              "      <td>lasso</td>\n",
              "      <td>215527.672560</td>\n",
              "      <td>214563.500565</td>\n",
              "    </tr>\n",
              "    <tr>\n",
              "      <th>3</th>\n",
              "      <td>net elatic</td>\n",
              "      <td>215560.753083</td>\n",
              "      <td>214755.835736</td>\n",
              "    </tr>\n",
              "  </tbody>\n",
              "</table>\n",
              "</div>"
            ],
            "text/plain": [
              "        model     test score    train score\n",
              "0      linear  215530.849357  214563.307041\n",
              "1       ridge  216154.203796  215551.117197\n",
              "2       lasso  215527.672560  214563.500565\n",
              "3  net elatic  215560.753083  214755.835736"
            ]
          },
          "metadata": {},
          "execution_count": 50
        }
      ]
    },
    {
      "cell_type": "code",
      "metadata": {
        "colab": {
          "base_uri": "https://localhost:8080/"
        },
        "id": "q4bcUNAqqygf",
        "outputId": "01a44e5e-c56f-4615-a8e9-1afb27331d7f"
      },
      "source": [
        "print('The model that performed best on the training dataset is', scores_df.iloc[scores_df['train score'].idxmin()]['model'])\n",
        "print('The model that performed best on the testing dataset is', scores_df.iloc[scores_df['test score'].idxmin()]['model'])\n",
        "print('The model that performed worst on the training dataset is', scores_df.iloc[scores_df['train score'].idxmax()]['model'])\n",
        "print('The model that performed worst on the testing dataset is', scores_df.iloc[scores_df['test score'].idxmax()]['model'])"
      ],
      "execution_count": 51,
      "outputs": [
        {
          "output_type": "stream",
          "name": "stdout",
          "text": [
            "The model that performed best on the training dataset is linear\n",
            "The model that performed best on the testing dataset is lasso\n",
            "The model that performed worst on the training dataset is ridge\n",
            "The model that performed worst on the testing dataset is ridge\n"
          ]
        }
      ]
    },
    {
      "cell_type": "code",
      "metadata": {
        "colab": {
          "base_uri": "https://localhost:8080/",
          "height": 716
        },
        "id": "VsTL7x2LrExi",
        "outputId": "cf8a31f7-2b98-4196-fe1d-245be76c933a"
      },
      "source": [
        "fig, ((ax1,ax2),(ax3,ax4)) = plt.subplots(2,2, figsize=(18,12))\n",
        "ax1.barh(list(linear_coef.keys()), list(linear_coef.values()))\n",
        "ax1.set_title('Linear regression coefficients')\n",
        "ax2.barh(list(ridge_coef.keys()), list(ridge_coef.values()))\n",
        "ax2.set_title('Ridge regression coefficients')\n",
        "ax3.barh(list(lasso_coef.keys()), list(lasso_coef.values()))\n",
        "ax3.set_title('Lasso regression coefficients')\n",
        "ax4.barh(list(elastic_coef.keys()), list(elastic_coef.values()))\n",
        "ax4.set_title('Net elastic regression coefficients')\n",
        "plt.show()"
      ],
      "execution_count": 52,
      "outputs": [
        {
          "output_type": "display_data",
          "data": {
            "image/png": "[encoded data removed]",
            "text/plain": [
              "<Figure size 1296x864 with 4 Axes>"
            ]
          },
          "metadata": {
            "needs_background": "light"
          }
        }
      ]
    },
    {
      "cell_type": "markdown",
      "metadata": {
        "id": "ZW92xK5dUhOk"
      },
      "source": [
        "Some observations:\n",
        "1. Whether or not a house has a waterfront was the biggest factor in determining the price of a house. Houses with waterfronts are 600000 more expensive than houses without them holding all other variables constant.\n",
        "2. Prices and number of bedrooms have a negative relationship\n",
        "3. Lasso regression reduced the coefficient of sqft_basement to zero meaning ots not a significant factor in housing prices\n",
        "4. Houses in zip 981 are generally more expensive than those in 980\n",
        "5. Factors like sqft_living, sqft_lot, sqft_above, sqft_living15, sqft_lot15 have a very small effect on prices compared to others"
      ]
    },
    {
      "cell_type": "markdown",
      "metadata": {
        "id": "11OAvAisWF14"
      },
      "source": [
        "One way we could improve the model is if we found a way to incorporate the year a house was renovated into our model as it could be a factor"
      ]
    }
  ]
}